{
 "cells": [
  {
   "cell_type": "code",
   "execution_count": 29,
   "metadata": {
    "scrolled": false
   },
   "outputs": [
    {
     "name": "stdout",
     "output_type": "stream",
     "text": [
      "path to store: data/onbody-conditional-4fold/fold1/train/boxingmoving\n",
      "path to store: data/onbody-conditional-4fold/fold1/train/boxingstill\n",
      "path to store: data/onbody-conditional-4fold/fold1/train/running\n",
      "path to store: data/onbody-conditional-4fold/fold1/train/crawling\n",
      "path to store: data/onbody-conditional-4fold/fold1/train/still\n",
      "path to store: data/onbody-conditional-4fold/fold1/train/walking\n",
      "path to store: data/onbody-conditional-4fold/fold1/train/walkinglow\n",
      "path to store: data/onbody-conditional-4fold/fold1/test/boxingmoving\n",
      "path to store: data/onbody-conditional-4fold/fold1/test/boxingstill\n",
      "path to store: data/onbody-conditional-4fold/fold1/test/running\n",
      "path to store: data/onbody-conditional-4fold/fold1/test/crawling\n",
      "path to store: data/onbody-conditional-4fold/fold1/test/still\n",
      "path to store: data/onbody-conditional-4fold/fold1/test/walking\n",
      "path to store: data/onbody-conditional-4fold/fold1/test/walkinglow\n",
      "path to store: data/onbody-conditional-4fold/fold2/train/boxingmoving\n",
      "path to store: data/onbody-conditional-4fold/fold2/train/boxingstill\n",
      "path to store: data/onbody-conditional-4fold/fold2/train/running\n",
      "path to store: data/onbody-conditional-4fold/fold2/train/crawling\n",
      "path to store: data/onbody-conditional-4fold/fold2/train/still\n",
      "path to store: data/onbody-conditional-4fold/fold2/train/walking\n",
      "path to store: data/onbody-conditional-4fold/fold2/train/walkinglow\n",
      "path to store: data/onbody-conditional-4fold/fold2/test/boxingmoving\n",
      "path to store: data/onbody-conditional-4fold/fold2/test/boxingstill\n",
      "path to store: data/onbody-conditional-4fold/fold2/test/running\n",
      "path to store: data/onbody-conditional-4fold/fold2/test/crawling\n",
      "path to store: data/onbody-conditional-4fold/fold2/test/still\n",
      "path to store: data/onbody-conditional-4fold/fold2/test/walking\n",
      "path to store: data/onbody-conditional-4fold/fold2/test/walkinglow\n",
      "path to store: data/onbody-conditional-4fold/fold3/train/boxingmoving\n",
      "path to store: data/onbody-conditional-4fold/fold3/train/boxingstill\n",
      "path to store: data/onbody-conditional-4fold/fold3/train/running\n",
      "path to store: data/onbody-conditional-4fold/fold3/train/crawling\n",
      "path to store: data/onbody-conditional-4fold/fold3/train/still\n",
      "path to store: data/onbody-conditional-4fold/fold3/train/walking\n",
      "path to store: data/onbody-conditional-4fold/fold3/train/walkinglow\n",
      "path to store: data/onbody-conditional-4fold/fold3/test/boxingmoving\n",
      "path to store: data/onbody-conditional-4fold/fold3/test/boxingstill\n",
      "path to store: data/onbody-conditional-4fold/fold3/test/running\n",
      "path to store: data/onbody-conditional-4fold/fold3/test/crawling\n",
      "path to store: data/onbody-conditional-4fold/fold3/test/still\n",
      "path to store: data/onbody-conditional-4fold/fold3/test/walking\n",
      "path to store: data/onbody-conditional-4fold/fold3/test/walkinglow\n",
      "path to store: data/onbody-conditional-4fold/fold4/train/boxingmoving\n",
      "path to store: data/onbody-conditional-4fold/fold4/train/boxingstill\n",
      "path to store: data/onbody-conditional-4fold/fold4/train/running\n",
      "path to store: data/onbody-conditional-4fold/fold4/train/crawling\n",
      "path to store: data/onbody-conditional-4fold/fold4/train/still\n",
      "path to store: data/onbody-conditional-4fold/fold4/train/walking\n",
      "path to store: data/onbody-conditional-4fold/fold4/train/walkinglow\n",
      "path to store: data/onbody-conditional-4fold/fold4/test/boxingmoving\n",
      "path to store: data/onbody-conditional-4fold/fold4/test/boxingstill\n",
      "path to store: data/onbody-conditional-4fold/fold4/test/running\n",
      "path to store: data/onbody-conditional-4fold/fold4/test/crawling\n",
      "path to store: data/onbody-conditional-4fold/fold4/test/still\n",
      "path to store: data/onbody-conditional-4fold/fold4/test/walking\n",
      "path to store: data/onbody-conditional-4fold/fold4/test/walkinglow\n"
     ]
    }
   ],
   "source": [
    "fold_nums = [1,2,3,4]\n",
    "train_test = ['train', 'test']\n",
    "acts = ['boxingmoving', 'boxingstill', 'running', 'crawling', 'still', 'walking', 'walkinglow']\n",
    "sbjs = [1,2,3,4,5,6,7,8,9,10,11,12]\n",
    "is_class_subfolder = False\n",
    "fold_train_subj = {1:[1,2,3,4,5,6,7,8,9], \n",
    "                   2:[1,2,3,4,5,6,10,11,12], \n",
    "                   3:[1,2,3,7,8,9,10,11,12], \n",
    "                   4:[4,5,6,7,8,9,10,11,12]}\n",
    "fold_test_subj = {1:[10,11,12], \n",
    "                  2:[7,8,9], \n",
    "                  3:[4,5,6], \n",
    "                  4:[1,2,3]}\n",
    "from pathlib import Path\n",
    "from os import listdir, mkdir\n",
    "from shutil import copyfile\n",
    "\n",
    "origin_path_base = Path('data').joinpath('onbody-conditional')\n",
    "\n",
    "base_path = Path('data').joinpath('onbody-conditional-4fold')\n",
    "for fold_num in fold_nums:\n",
    "    path_fn = base_path.joinpath('fold{}'.format(fold_num))\n",
    "    for train_test_type in train_test:\n",
    "        path_tt = path_fn.joinpath(train_test_type)\n",
    "        for act in acts:\n",
    "            path_act = path_tt.joinpath(act)\n",
    "            subfolder = path_act.joinpath('_subfolder_')\n",
    "            \n",
    "            if is_class_subfolder:\n",
    "                dir_to_store = subfolder\n",
    "            else:\n",
    "                dir_to_store = path_act\n",
    "            \n",
    "            print('path to store: {}'.format(dir_to_store))\n",
    "            original_data_path = origin_path_base.joinpath(act)\n",
    "            images = listdir(original_data_path)\n",
    "            \n",
    "            if train_test_type == 'train':\n",
    "                images = [x for x in images if get_sbj_num(x) in fold_train_subj[fold_num]]\n",
    "            elif train_test_type == 'test':\n",
    "                images = [x for x in images if get_sbj_num(x) in fold_test_subj[fold_num]]\n",
    "            \n",
    "            dir_to_store.mkdir(parents=True, exist_ok=True)\n",
    "            for image_filename in images:\n",
    "                copyfile(original_data_path.joinpath(image_filename), dir_to_store.joinpath(image_filename))\n",
    "            \n",
    "            \n",
    "def get_sbj_num(file_name):\n",
    "    for i in sbjs:\n",
    "        if 'test{}_'.format(i) in file_name:\n",
    "            return i\n",
    "\n",
    "\n",
    "    "
   ]
  },
  {
   "cell_type": "code",
   "execution_count": 9,
   "metadata": {},
   "outputs": [
    {
     "ename": "TypeError",
     "evalue": "unsupported operand type(s) for -: 'list' and 'list'",
     "output_type": "error",
     "traceback": [
      "\u001b[0;31m---------------------------------------------------------------------------\u001b[0m",
      "\u001b[0;31mTypeError\u001b[0m                                 Traceback (most recent call last)",
      "\u001b[0;32m<ipython-input-9-2d6ec702c295>\u001b[0m in \u001b[0;36m<module>\u001b[0;34m\u001b[0m\n\u001b[0;32m----> 1\u001b[0;31m \u001b[0;34m[\u001b[0m\u001b[0;36m1\u001b[0m\u001b[0;34m,\u001b[0m\u001b[0;36m2\u001b[0m\u001b[0;34m,\u001b[0m\u001b[0;36m3\u001b[0m\u001b[0;34m,\u001b[0m\u001b[0;36m4\u001b[0m\u001b[0;34m]\u001b[0m \u001b[0;34m-\u001b[0m \u001b[0;34m[\u001b[0m\u001b[0;36m1\u001b[0m\u001b[0;34m]\u001b[0m\u001b[0;34m\u001b[0m\u001b[0;34m\u001b[0m\u001b[0m\n\u001b[0m",
      "\u001b[0;31mTypeError\u001b[0m: unsupported operand type(s) for -: 'list' and 'list'"
     ]
    }
   ],
   "source": []
  },
  {
   "cell_type": "code",
   "execution_count": null,
   "metadata": {},
   "outputs": [],
   "source": []
  }
 ],
 "metadata": {
  "kernelspec": {
   "display_name": "Python 3",
   "language": "python",
   "name": "python3"
  },
  "language_info": {
   "codemirror_mode": {
    "name": "ipython",
    "version": 3
   },
   "file_extension": ".py",
   "mimetype": "text/x-python",
   "name": "python",
   "nbconvert_exporter": "python",
   "pygments_lexer": "ipython3",
   "version": "3.6.8"
  }
 },
 "nbformat": 4,
 "nbformat_minor": 2
}

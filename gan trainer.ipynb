{
 "cells": [
  {
   "cell_type": "code",
   "execution_count": 1,
   "metadata": {},
   "outputs": [
    {
     "data": {
      "text/plain": [
       "'python main.py --dataset=onbody-conditional-4fold-gan/fold1/train/boxingmoving --image_size=128 --generator_iters=20000 --batch_size=16 --gan_type=wgan --port=8081 --channel=1 --env_name=onbody-fold1-boxingmoving-wgan --noise_mean=0 --noise_std=0 --hide_range=0 --checker_intensity=0 --multi_gpu=True'"
      ]
     },
     "execution_count": 1,
     "metadata": {},
     "output_type": "execute_result"
    }
   ],
   "source": [
    "\"python main.py --dataset=onbody-conditional-4fold-gan/fold1/train/boxingmoving --image_size=128 --generator_iters=20000 --batch_size=16 --gan_type=wgan --port=8081 --channel=1 --env_name=onbody-fold1-boxingmoving-wgan --noise_mean=0 --noise_std=0 --hide_range=0 --checker_intensity=0 --multi_gpu=True\""
   ]
  },
  {
   "cell_type": "code",
   "execution_count": null,
   "metadata": {},
   "outputs": [],
   "source": [
    "import os\n",
    "\n",
    "acts = [\"boxingmoving\", \"boxingstill\", \"crawling\", \"running\", \"still\", \"walking\", \"walkinglow\"]\n",
    "folds = [1,2,3,4]\n",
    "for fold in folds:\n",
    "    for act in acts:\n",
    "        cmd = \"python main.py --dataset=onbody-conditional-4fold-gan/fold\"+str(fold)+\"/train/\"+act+\" --image_size=128 --generator_iters=20000 --batch_size=16 --gan_type=wgan --port=8081 --channel=1 --env_name=onbody-fold\"+str(fold)+\"-\"+act+\"-wgan --noise_mean=0 --noise_std=0 --hide_range=0 --checker_intensity=0 --multi_gpu=True\"\n",
    "        os.system(cmd)"
   ]
  },
  {
   "cell_type": "code",
   "execution_count": null,
   "metadata": {},
   "outputs": [],
   "source": []
  }
 ],
 "metadata": {
  "kernelspec": {
   "display_name": "Python 3",
   "language": "python",
   "name": "python3"
  },
  "language_info": {
   "codemirror_mode": {
    "name": "ipython",
    "version": 3
   },
   "file_extension": ".py",
   "mimetype": "text/x-python",
   "name": "python",
   "nbconvert_exporter": "python",
   "pygments_lexer": "ipython3",
   "version": "3.6.8"
  }
 },
 "nbformat": 4,
 "nbformat_minor": 2
}
